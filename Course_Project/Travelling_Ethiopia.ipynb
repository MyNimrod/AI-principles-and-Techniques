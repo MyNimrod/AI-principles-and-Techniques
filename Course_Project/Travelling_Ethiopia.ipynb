{
 "cells": [
  {
   "cell_type": "code",
   "execution_count": 1,
   "id": "999bbf63",
   "metadata": {},
   "outputs": [],
   "source": [
    "## Artificial Intelligence Graduate Program\n",
    "### Artificial Intelligence: Principles and Techniques\n",
    "#### Course Project"
   ]
  },
  {
   "cell_type": "code",
   "execution_count": null,
   "id": "41fbd165",
   "metadata": {},
   "outputs": [],
   "source": [
    "1. Consider Figure 1 (A generic state space graph for traveling Ethiopia search problem) to solve \n",
    "the following problems."
   ]
  },
  {
   "cell_type": "code",
   "execution_count": null,
   "id": "fc8f1fe8",
   "metadata": {},
   "outputs": [],
   "source": [
    "1.1 Convert Figure 1, a State space graph for traveling Ethiopia search problem, into some \n",
    "sort of manageable data structure such as, stack or queue."
   ]
  },
  {
   "cell_type": "code",
   "execution_count": null,
   "id": "b25e5c79",
   "metadata": {},
   "outputs": [],
   "source": [
    "from collections import deque\n",
    "\n",
    "# Graph class to represent the state space graph\n",
    "class Graph: \n",
    "    def __init__(self, graph_dict=None, directed=True):\n",
    "        self.graph_dict = graph_dict or {}\n",
    "        self.directed = directed\n",
    "        \n",
    "    # Method to get the nodes of the graph\n",
    "    def nodes(self):        \n",
    "        return list(self.graph_dict.keys())\n",
    "    \n",
    "    # Method to get the neighbors of a node\n",
    "    def get(self, a, b=None):\n",
    "        links = self.graph_dict.get(a) \n",
    "        if b is None:\n",
    "            return links\n",
    "# Problem class to define the initial state and the goal state\n",
    "class Problem: \n",
    "    def __init__(self, initial, goal=None):\n",
    "        self.initial = initial\n",
    "        self.goal = goal\n",
    "\n",
    "    # Method to check if a state is the goal state\n",
    "    def goal_test(self, state):\n",
    "        return state == self.goal\n",
    "    \n",
    "    # Method to get the possible actions from a state (to be implemented in subclasses)\n",
    "    def actions(self, state):\n",
    "         raise NotImplementedError\n",
    "\n",
    "    # Method to get the result of an action from a state (to be implemented in subclasses)\n",
    "    def result(self, state, action):\n",
    "        raise NotImplementedError\n",
    "            \n",
    "    # Method to evaluate the value of a state (to be implemented in subclasses)\n",
    "    def value(self, state):\n",
    "        raise NotImplementedError"
   ]
  }
 ],
 "metadata": {
  "kernelspec": {
   "display_name": "Python 3 (ipykernel)",
   "language": "python",
   "name": "python3"
  },
  "language_info": {
   "codemirror_mode": {
    "name": "ipython",
    "version": 3
   },
   "file_extension": ".py",
   "mimetype": "text/x-python",
   "name": "python",
   "nbconvert_exporter": "python",
   "pygments_lexer": "ipython3",
   "version": "3.11.5"
  }
 },
 "nbformat": 4,
 "nbformat_minor": 5
}
