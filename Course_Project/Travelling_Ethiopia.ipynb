{
 "cells": [
  {
   "cell_type": "code",
   "execution_count": 1,
   "id": "12bddd92",
   "metadata": {},
   "outputs": [],
   "source": [
    "## Artificial Intelligence Graduate Program\n",
    "### Artificial Intelligence: Principles and Techniques\n",
    "#### Course Project"
   ]
  },
  {
   "cell_type": "code",
   "execution_count": null,
   "id": "c043dc86",
   "metadata": {},
   "outputs": [],
   "source": [
    "1. Consider Figure 1 (A generic state space graph for traveling Ethiopia search problem) to solve \n",
    "the following problems."
   ]
  },
  {
   "cell_type": "code",
   "execution_count": null,
   "id": "ee76fc31",
   "metadata": {},
   "outputs": [],
   "source": [
    "1.1 Convert Figure 1, a State space graph for traveling Ethiopia search problem, into some \n",
    "sort of manageable data structure such as, stack or queue."
   ]
  },
  {
   "cell_type": "code",
   "execution_count": null,
   "id": "f00162f6",
   "metadata": {},
   "outputs": [],
   "source": [
    "from collections import deque\n",
    "\n",
    "# Graph class to represent the state space graph\n",
    "class Graph: \n",
    "    def __init__(self, graph_dict=None, directed=True):\n",
    "        self.graph_dict = graph_dict or {}\n",
    "        self.directed = directed\n",
    "        \n",
    "    # Method to get the nodes of the graph\n",
    "    def nodes(self):        \n",
    "        return list(self.graph_dict.keys())\n",
    "    \n",
    "    # Method to get the neighbors of a node\n",
    "    def get(self, a, b=None):\n",
    "        links = self.graph_dict.get(a) \n",
    "        if b is None:\n",
    "            return links"
   ]
  }
 ],
 "metadata": {
  "kernelspec": {
   "display_name": "Python 3 (ipykernel)",
   "language": "python",
   "name": "python3"
  },
  "language_info": {
   "codemirror_mode": {
    "name": "ipython",
    "version": 3
   },
   "file_extension": ".py",
   "mimetype": "text/x-python",
   "name": "python",
   "nbconvert_exporter": "python",
   "pygments_lexer": "ipython3",
   "version": "3.11.5"
  }
 },
 "nbformat": 4,
 "nbformat_minor": 5
}
